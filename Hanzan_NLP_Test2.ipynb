{
  "nbformat": 4,
  "nbformat_minor": 0,
  "metadata": {
    "colab": {
      "provenance": [],
      "authorship_tag": "ABX9TyNVCw+jIyG9/ueiK8rvrY3E"
    },
    "kernelspec": {
      "name": "python3",
      "display_name": "Python 3"
    },
    "language_info": {
      "name": "python"
    }
  },
  "cells": [
    {
      "cell_type": "markdown",
      "source": [
        "# 자모 Levenshtein distance 를 이용한 유사도 검사"
      ],
      "metadata": {
        "id": "dFf_jD61a3r-"
      }
    },
    {
      "cell_type": "code",
      "execution_count": null,
      "metadata": {
        "id": "o8yKWYj6atrm"
      },
      "outputs": [],
      "source": [
        "!pip install soynlp.hangle"
      ]
    },
    {
      "cell_type": "code",
      "source": [
        "from soynlp.hangle import jamo_levenshtein\n",
        "import re, sys"
      ],
      "metadata": {
        "id": "4gTfVYjBbKit"
      },
      "execution_count": null,
      "outputs": []
    },
    {
      "cell_type": "markdown",
      "source": [
        "## 전처리 작업"
      ],
      "metadata": {
        "id": "6ktPx_sgd9vk"
      }
    },
    {
      "cell_type": "code",
      "source": [
        "drink_list = []\n",
        "with open('./drink_list.txt', 'r', encoding='utf-8') as f:\n",
        "  while True:\n",
        "    line = f.readline().strip()\n",
        "    if not line:\n",
        "      break\n",
        "    drink_list.append(line)\n",
        "print(drink_list)"
      ],
      "metadata": {
        "colab": {
          "base_uri": "https://localhost:8080/"
        },
        "id": "tmFo0eZEeaoc",
        "outputId": "68eedbe9-fe1e-4ae5-e56f-2d4eaf0d8bb3"
      },
      "execution_count": null,
      "outputs": [
        {
          "output_type": "stream",
          "name": "stdout",
          "text": [
            "['처음처럼', '모스카토 다스티', '말벡', '구스', '말리부', '아이셔에 이슬', '참이슬']\n"
          ]
        }
      ]
    },
    {
      "cell_type": "code",
      "source": [
        "input = '1.참참 이 슬'\n",
        "hangul = re.compile('[^가-힣+]')\n",
        "## 한글만 추출한 input text\n",
        "input_kor = hangul.sub('', input)"
      ],
      "metadata": {
        "id": "cuMSUjfWbTle"
      },
      "execution_count": null,
      "outputs": []
    },
    {
      "cell_type": "markdown",
      "source": [
        "## 주류 리스트에서 거리 최솟값 구하기"
      ],
      "metadata": {
        "id": "lcyH6K2ze6zQ"
      }
    },
    {
      "cell_type": "code",
      "source": [
        "dist_min = [sys.maxsize, '']\n",
        "for drink in drink_list:\n",
        "  drink_kor = hangul.sub('', drink)\n",
        "  dist = jamo_levenshtein(input_kor, drink_kor)\n",
        "  if dist < dist_min[0]:\n",
        "    dist_min = [dist, drink]\n",
        "print(*dist_min)"
      ],
      "metadata": {
        "colab": {
          "base_uri": "https://localhost:8080/"
        },
        "id": "Krc1fc3HfAix",
        "outputId": "6dee9fd1-6191-4245-b1ff-c09e9bcce24f"
      },
      "execution_count": null,
      "outputs": [
        {
          "output_type": "stream",
          "name": "stdout",
          "text": [
            "1 참이슬\n"
          ]
        }
      ]
    },
    {
      "cell_type": "markdown",
      "source": [
        "## Todo : 최솟값이 일정 기준 미달이면 return None"
      ],
      "metadata": {
        "id": "c0UOIXDfgp82"
      }
    },
    {
      "cell_type": "markdown",
      "source": [],
      "metadata": {
        "id": "WJndsmpba19Z"
      }
    }
  ]
}